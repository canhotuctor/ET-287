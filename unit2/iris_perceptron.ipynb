{
 "cells": [
  {
   "cell_type": "markdown",
   "metadata": {},
   "source": [
    "Importing used packages"
   ]
  },
  {
   "cell_type": "code",
   "execution_count": 143,
   "metadata": {},
   "outputs": [],
   "source": [
    "from sklearn import datasets\n",
    "from sklearn.model_selection import train_test_split\n",
    "\n",
    "import pandas as pd\n",
    "import numpy as np\n",
    "import matplotlib.pyplot as plt\n",
    "\n",
    "from perceptron import Perceptron"
   ]
  },
  {
   "cell_type": "markdown",
   "metadata": {},
   "source": [
    "Loading the dataset"
   ]
  },
  {
   "cell_type": "code",
   "execution_count": 144,
   "metadata": {},
   "outputs": [
    {
     "name": "stdout",
     "output_type": "stream",
     "text": [
      ".. _iris_dataset:\n",
      "\n",
      "Iris plants dataset\n",
      "--------------------\n",
      "\n",
      "**Data Set Characteristics:**\n",
      "\n",
      "    :Number of Instances: 150 (50 in each of three classes)\n",
      "    :Number of Attributes: 4 numeric, predictive attributes and the class\n",
      "    :Attribute Information:\n",
      "        - sepal length in cm\n",
      "        - sepal width in cm\n",
      "        - petal length in cm\n",
      "        - petal width in cm\n",
      "        - class:\n",
      "                - Iris-Setosa\n",
      "                - Iris-Versicolour\n",
      "                - Iris-Virginica\n",
      "                \n",
      "    :Summary Statistics:\n",
      "\n",
      "    ============== ==== ==== ======= ===== ====================\n",
      "                    Min  Max   Mean    SD   Class Correlation\n",
      "    ============== ==== ==== ======= ===== ====================\n",
      "    sepal length:   4.3  7.9   5.84   0.83    0.7826\n",
      "    sepal width:    2.0  4.4   3.05   0.43   -0.4194\n",
      "    petal length:   1.0  6.9   3.76   1.76    0.9490  (high!)\n",
      "    petal width:    0.1  2.5   1.20   0.76    0.9565  (high!)\n",
      "    ============== ==== ==== ======= ===== ====================\n",
      "\n",
      "    :Missing Attribute Values: None\n",
      "    :Class Distribution: 33.3% for each of 3 classes.\n",
      "    :Creator: R.A. Fisher\n",
      "    :Donor: Michael Marshall (MARSHALL%PLU@io.arc.nasa.gov)\n",
      "    :Date: July, 1988\n",
      "\n",
      "The famous Iris database, first used by Sir R.A. Fisher. The dataset is taken\n",
      "from Fisher's paper. Note that it's the same as in R, but not as in the UCI\n",
      "Machine Learning Repository, which has two wrong data points.\n",
      "\n",
      "This is perhaps the best known database to be found in the\n",
      "pattern recognition literature.  Fisher's paper is a classic in the field and\n",
      "is referenced frequently to this day.  (See Duda & Hart, for example.)  The\n",
      "data set contains 3 classes of 50 instances each, where each class refers to a\n",
      "type of iris plant.  One class is linearly separable from the other 2; the\n",
      "latter are NOT linearly separable from each other.\n",
      "\n",
      "|details-start|\n",
      "**References**\n",
      "|details-split|\n",
      "\n",
      "- Fisher, R.A. \"The use of multiple measurements in taxonomic problems\"\n",
      "  Annual Eugenics, 7, Part II, 179-188 (1936); also in \"Contributions to\n",
      "  Mathematical Statistics\" (John Wiley, NY, 1950).\n",
      "- Duda, R.O., & Hart, P.E. (1973) Pattern Classification and Scene Analysis.\n",
      "  (Q327.D83) John Wiley & Sons.  ISBN 0-471-22361-1.  See page 218.\n",
      "- Dasarathy, B.V. (1980) \"Nosing Around the Neighborhood: A New System\n",
      "  Structure and Classification Rule for Recognition in Partially Exposed\n",
      "  Environments\".  IEEE Transactions on Pattern Analysis and Machine\n",
      "  Intelligence, Vol. PAMI-2, No. 1, 67-71.\n",
      "- Gates, G.W. (1972) \"The Reduced Nearest Neighbor Rule\".  IEEE Transactions\n",
      "  on Information Theory, May 1972, 431-433.\n",
      "- See also: 1988 MLC Proceedings, 54-64.  Cheeseman et al\"s AUTOCLASS II\n",
      "  conceptual clustering system finds 3 classes in the data.\n",
      "- Many, many more ...\n",
      "\n",
      "|details-end|\n"
     ]
    }
   ],
   "source": [
    "# Load the dataset\n",
    "iris = datasets.load_iris()\n",
    "print(iris.DESCR)\n",
    "\n",
    "X = pd.DataFrame(iris.data, columns=iris.feature_names)\n",
    "Y = pd.Series(iris.target) # made of class indexes"
   ]
  },
  {
   "cell_type": "markdown",
   "metadata": {},
   "source": [
    "Filtering only the needed data"
   ]
  },
  {
   "cell_type": "code",
   "execution_count": 145,
   "metadata": {},
   "outputs": [],
   "source": [
    "# getting data about only 2 of the classes\n",
    "filteredX = X[(Y == 1) | (Y == 2)]\n",
    "filteredX = filteredX[['sepal length (cm)', 'petal length (cm)']]\n",
    "\n",
    "filteredY = Y[(Y == 1) | (Y == 2)]\n",
    "filteredY = filteredY.map({1: -1, 2: 1}) # mapping the class indexes to -1 and 1\n",
    "\n",
    "# splitting data\n",
    "x_train, x_val, y_train, y_val = train_test_split(filteredX, filteredY, test_size = 0.25)\n",
    "x_train, x_test, y_train, y_test = train_test_split(x_train, y_train, test_size = 0.10)"
   ]
  },
  {
   "cell_type": "markdown",
   "metadata": {},
   "source": [
    "Initializing the perceptron and training it on the given data."
   ]
  },
  {
   "cell_type": "code",
   "execution_count": 158,
   "metadata": {},
   "outputs": [
    {
     "name": "stdout",
     "output_type": "stream",
     "text": [
      "success on test: 0.9253731343283582%\n"
     ]
    }
   ],
   "source": [
    "# initializing the perceptron with the number of weights needed\n",
    "p = Perceptron(filteredX.shape[1])\n",
    "\n",
    "p.train(x_train.to_numpy(), y_train.to_numpy(), 0.12, 1000)\n",
    "\n",
    "print(\"success on test: {}%\".format(p.success_rate(x_train.to_numpy(), y_train.to_numpy())))\n",
    "\n",
    "# print(p.weights)"
   ]
  },
  {
   "cell_type": "markdown",
   "metadata": {},
   "source": [
    "Validating the training"
   ]
  },
  {
   "cell_type": "code",
   "execution_count": 160,
   "metadata": {},
   "outputs": [
    {
     "name": "stdout",
     "output_type": "stream",
     "text": [
      "actual: -1 eval: 1\n",
      "actual: 1 eval: 1\n",
      "actual: -1 eval: -1\n",
      "actual: 1 eval: 1\n",
      "actual: 1 eval: 1\n",
      "actual: 1 eval: 1\n",
      "actual: 1 eval: -1\n",
      "actual: -1 eval: -1\n",
      "actual: 1 eval: 1\n",
      "actual: -1 eval: -1\n",
      "actual: -1 eval: -1\n",
      "actual: -1 eval: -1\n",
      "actual: 1 eval: -1\n",
      "actual: 1 eval: -1\n",
      "actual: 1 eval: -1\n",
      "actual: 1 eval: 1\n",
      "actual: -1 eval: -1\n",
      "actual: 1 eval: 1\n",
      "actual: 1 eval: 1\n",
      "actual: 1 eval: 1\n",
      "actual: 1 eval: 1\n",
      "actual: 1 eval: 1\n",
      "actual: -1 eval: -1\n",
      "actual: 1 eval: 1\n",
      "actual: 1 eval: 1\n",
      "success on validation: 80.0%\n"
     ]
    }
   ],
   "source": [
    "# print(\"validation samples:\")\n",
    "for i in range(len(x_val)):\n",
    "    print(\"actual:\", y_val.iloc[i], \"eval:\", p.eval(x_val.iloc[i]))\n",
    "    \n",
    "print(\"success on validation: {}%\".format(100*p.success_rate(x_val.to_numpy(), y_val.to_numpy())))"
   ]
  },
  {
   "cell_type": "markdown",
   "metadata": {},
   "source": [
    "Showing the results"
   ]
  },
  {
   "cell_type": "code",
   "execution_count": 161,
   "metadata": {},
   "outputs": [
    {
     "data": {
      "image/png": "[encoded data removed]",
      "text/plain": [
       "<Figure size 640x480 with 1 Axes>"
      ]
     },
     "metadata": {},
     "output_type": "display_data"
    }
   ],
   "source": [
    "# displaying the data points \n",
    "for i in range(filteredX.shape[0]):\n",
    "    plt.scatter(filteredX.iloc[i, 0], filteredX.iloc[i, 1], color='red' if filteredY.iloc[i] == -1 else 'blue')\n",
    "\n",
    "# defining the points to plot the line given the weights\n",
    "# b + w0*x + w1*y = 0\n",
    "# x = (-b - w1*y)/w0\n",
    "y_max = filteredX['petal length (cm)'].max()\n",
    "y_min = filteredX['petal length (cm)'].min()\n",
    "\n",
    "point1 = [(-p.bias - p.weights[1]*y_max)/p.weights[0], y_max]\n",
    "point2 = [(-p.bias - p.weights[1]*y_min)/p.weights[0], y_min]\n",
    "x_values = [point1[0], point2[0]]\n",
    "y_values = [point1[1], point2[1]]\n",
    "plt.plot(x_values, y_values, linestyle=\"--\")\n",
    "plt.grid()\n",
    "plt.show()"
   ]
  }
 ],
 "metadata": {
  "kernelspec": {
   "display_name": "Python 3",
   "language": "python",
   "name": "python3"
  },
  "language_info": {
   "codemirror_mode": {
    "name": "ipython",
    "version": 3
   },
   "file_extension": ".py",
   "mimetype": "text/x-python",
   "name": "python",
   "nbconvert_exporter": "python",
   "pygments_lexer": "ipython3",
   "version": "3.10.12"
  }
 },
 "nbformat": 4,
 "nbformat_minor": 2
}
