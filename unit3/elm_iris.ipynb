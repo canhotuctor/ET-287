{
 "cells": [
  {
   "cell_type": "code",
   "execution_count": 1,
   "metadata": {},
   "outputs": [
    {
     "name": "stderr",
     "output_type": "stream",
     "text": [
      "2024-04-24 16:19:43.522809: I tensorflow/core/platform/cpu_feature_guard.cc:210] This TensorFlow binary is optimized to use available CPU instructions in performance-critical operations.\n",
      "To enable the following instructions: AVX2 FMA, in other operations, rebuild TensorFlow with the appropriate compiler flags.\n",
      "2024-04-24 16:19:44.313036: W tensorflow/compiler/tf2tensorrt/utils/py_utils.cc:38] TF-TRT Warning: Could not find TensorRT\n"
     ]
    }
   ],
   "source": [
    "import sklearn.datasets\n",
    "from sklearn.model_selection import train_test_split\n",
    "import numpy as np\n",
    "import pandas as pd\n",
    "import matplotlib.pyplot as plt\n",
    "\n",
    "import tensorflow as tf\n",
    "import keras\n",
    "from keras.models import Sequential\n",
    "from keras.layers import Dense, Flatten, InputLayer"
   ]
  },
  {
   "cell_type": "code",
   "execution_count": 11,
   "metadata": {},
   "outputs": [
    {
     "name": "stdout",
     "output_type": "stream",
     "text": [
      "(150, 1)\n"
     ]
    }
   ],
   "source": [
    "# loading the dataset\n",
    "iris_dataset = sklearn.datasets.load_iris()\n",
    "X = iris_dataset.data\n",
    "Y = iris_dataset.target.reshape(-1, 1)\n",
    "print(Y.shape)"
   ]
  },
  {
   "cell_type": "code",
   "execution_count": 12,
   "metadata": {},
   "outputs": [
    {
     "name": "stdout",
     "output_type": "stream",
     "text": [
      "(150, 3)\n"
     ]
    }
   ],
   "source": [
    "# encoding the target variables\n",
    "encoder = sklearn.preprocessing.OneHotEncoder(sparse_output=False)\n",
    "Y = encoder.fit_transform(Y)\n",
    "print(Y.shape)"
   ]
  },
  {
   "cell_type": "code",
   "execution_count": 13,
   "metadata": {},
   "outputs": [],
   "source": [
    "# splitting the data\n",
    "x_train, x_test, y_train, y_test = train_test_split(X, Y, test_size = 0.25)"
   ]
  },
  {
   "cell_type": "code",
   "execution_count": 20,
   "metadata": {},
   "outputs": [],
   "source": [
    "# implementing the model\n",
    "class ELM(object):\n",
    "    def __init__(self, input_layer = 'relu', hidden_layer = ['relu'], output_layer = 'relu'):\n",
    "        self.input_layer = input_layer\n",
    "        self.hidden_layer = hidden_layer\n",
    "        self.output_layer = output_layer\n",
    "        self.model = None\n",
    "\n",
    "    def buildNetwork(self):\n",
    "        pass\n",
    "\n",
    "    def setWeights(self):\n",
    "        weights = self.model.layers[-1].get_weights()\n",
    "        weights[0] = np.random.random_sample((weights[0].shape[0],weights[0].shape[1]))\n",
    "        self.model.layers[-1].set_weights(weights)\n",
    "\n",
    "    def fit(self, X_train, y_train):\n",
    "        return self.model.fit(X_train, y_train, verbose=2, batch_size= np.size(y_train), epochs=1)\n",
    "\n",
    "    def evaluate(self, X_test, y_test):\n",
    "        return self.model.evaluate(X_test, y_test)\n",
    "\n",
    "    def getWeights(self):\n",
    "        return self.model.get_weights()\n",
    "\n",
    "    def summary(self):\n",
    "        self.model.summary()\n",
    "\n",
    "class MultiClassify(ELM):\n",
    "\n",
    "    def buildNetwork(self, input_dim):\n",
    "            self.model = Sequential()\n",
    "\n",
    "            # Input layer\n",
    "            self.model.add(Dense(units=150, activation=self.input_layer, input_dim=input_dim, trainable=False))\n",
    "            self.setWeights()\n",
    "            # Hidden layer\n",
    "            for act in self.hidden_layer:\n",
    "                    self.model.add(Dense(units=50, activation=act, trainable=False))\n",
    "            # Output layer\n",
    "            self.model.add(Dense(units=3, activation=self.output_layer, trainable=True))\n",
    "\n",
    "            self.model.compile(loss='categorical_crossentropy', optimizer=keras.optimizers.Adam(learning_rate=0.001),metrics=['accuracy'])\n",
    "\n",
    "class BinaryClassify(ELM):\n",
    "\n",
    "    def buildNetwork(self, input_dim):\n",
    "            self.model = Sequential()\n",
    "\n",
    "            # Input layer\n",
    "            self.model.add(Dense(units=150, activation=self.input_layer, input_dim=input_dim, trainable=False))\n",
    "            self.setWeights()\n",
    "            # Hidden layer\n",
    "            for act in self.hidden_layer:\n",
    "                    self.model.add(Dense(units=20, activation=act, trainable=False))\n",
    "            # Output layer\n",
    "            self.model.add(Dense(units=2, activation=self.output_layer, trainable=True))\n",
    "\n",
    "            self.model.compile(loss='binary_crossentropy', optimizer=keras.optimizers.Adam(lr=0.001),metrics=['accuracy'])"
   ]
  },
  {
   "cell_type": "code",
   "execution_count": 21,
   "metadata": {},
   "outputs": [
    {
     "name": "stderr",
     "output_type": "stream",
     "text": [
      "/home/grey/.local/lib/python3.10/site-packages/keras/src/layers/core/dense.py:86: UserWarning: Do not pass an `input_shape`/`input_dim` argument to a layer. When using Sequential models, prefer using an `Input(shape)` object as the first layer in the model instead.\n",
      "  super().__init__(activity_regularizer=activity_regularizer, **kwargs)\n"
     ]
    }
   ],
   "source": [
    "# creating a classifier using elm's\n",
    "elm = MultiClassify(hidden_layer=['relu'], output_layer='softmax')\n",
    "\n",
    "input_d = X.shape[1] # number of features\n",
    "#print(input_dim)\n",
    "elm.buildNetwork(input_dim = 4)"
   ]
  },
  {
   "cell_type": "code",
   "execution_count": 24,
   "metadata": {},
   "outputs": [
    {
     "name": "stdout",
     "output_type": "stream",
     "text": [
      "1/1 - 0s - 20ms/step - accuracy: 0.3661 - loss: 5.5606\n"
     ]
    },
    {
     "data": {
      "image/png": "[encoded data removed]",
      "text/plain": [
       "<Figure size 640x480 with 1 Axes>"
      ]
     },
     "metadata": {},
     "output_type": "display_data"
    }
   ],
   "source": [
    "# training the classifier:\n",
    "history = elm.fit(x_train, y_train)\n",
    "\n",
    "plt.plot(history.history['accuracy'])\n",
    "plt.title('Acurácia do modelo')\n",
    "plt.ylabel('Acurácia')\n",
    "plt.xlabel('Epoch')\n",
    "plt.legend(['treinamento'], loc='upper left')\n",
    "plt.show()"
   ]
  },
  {
   "cell_type": "code",
   "execution_count": 23,
   "metadata": {},
   "outputs": [
    {
     "name": "stdout",
     "output_type": "stream",
     "text": [
      "\u001b[1m2/2\u001b[0m \u001b[32m━━━━━━━━━━━━━━━━━━━━\u001b[0m\u001b[37m\u001b[0m \u001b[1m0s\u001b[0m 5ms/step - accuracy: 0.2412 - loss: 7.5925  \n",
      "Validação:  0.2368421107530594\n"
     ]
    }
   ],
   "source": [
    "print ('Validação: ', elm.evaluate(x_test, y_test)[1])"
   ]
  }
 ],
 "metadata": {
  "kernelspec": {
   "display_name": "Python 3",
   "language": "python",
   "name": "python3"
  },
  "language_info": {
   "codemirror_mode": {
    "name": "ipython",
    "version": 3
   },
   "file_extension": ".py",
   "mimetype": "text/x-python",
   "name": "python",
   "nbconvert_exporter": "python",
   "pygments_lexer": "ipython3",
   "version": "3.10.12"
  }
 },
 "nbformat": 4,
 "nbformat_minor": 2
}
